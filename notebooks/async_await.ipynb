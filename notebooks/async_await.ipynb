{
 "cells": [
  {
   "cell_type": "code",
   "execution_count": 1,
   "id": "897974a9-f2e1-4161-9fd6-eb69c6380f66",
   "metadata": {},
   "outputs": [
    {
     "data": {
      "text/plain": [
       "coroutine"
      ]
     },
     "execution_count": 1,
     "metadata": {},
     "output_type": "execute_result"
    }
   ],
   "source": [
    "async def coroutine_1():\n",
    "    return 1\n",
    "\n",
    "c = coroutine_1()\n",
    "\n",
    "type(c)"
   ]
  },
  {
   "cell_type": "markdown",
   "id": "874474e8-5223-407c-b362-6fbd45ab3840",
   "metadata": {},
   "source": [
    "`await asyncio.sleep(0)`  command for yielding control to the event loop so that other tasks can run\n",
    "\n",
    "Storing tasks in a list allows a way to await their completion or check their status using `t.done()`\n",
    "\n",
    "The ` while True` loop continuously checks the status of tasks in the tasks list. It filters out completed tasks and then checks if there are any tasks left. If there are no tasks left (i.e., all tasks are done), it returns from the main function, effectively ending the program.\n",
    "\n",
    "The crucial part is await tasks[0], which means the program will pause at this point until the first task in the list (tasks[0]) is completed. This ensures that the loop doesn't proceed until at least one task has finished. \n",
    "\n",
    "If you remove this line, the loop won't wait for any task to complete, and it will keep checking the task statuses in a tight loop without giving other tasks a chance to execute. This can lead to a busy-waiting scenario, where the program consumes CPU resources without making progress, and the loop never exits.\n"
   ]
  },
  {
   "cell_type": "code",
   "execution_count": 1,
   "id": "4f69107a-b945-4f27-8576-36928f6c3672",
   "metadata": {},
   "outputs": [
    {
     "name": "stdout",
     "output_type": "stream",
     "text": [
      "len(tasks) 3\n",
      "task0: 0\n",
      "task1: 0\n",
      "task2: 0\n",
      "task0: 1\n",
      "task1: 1\n",
      "task2: 1\n",
      "task0: 2\n",
      "task1: 2\n",
      "task2: 2\n",
      "task0: 3\n",
      "task1: 3\n",
      "task2: 3\n",
      "task0: 4\n",
      "task1: 4\n",
      "task2: 4\n",
      "len(tasks) 0\n"
     ]
    }
   ],
   "source": [
    "import asyncio\n",
    "\n",
    "# Define an asynchronous function 'counter' that takes a 'name' parameter.\n",
    "async def counter(name: str):\n",
    "    # Loop from 0 to 9 (inclusive).\n",
    "    for i in range(0, 5):\n",
    "        # Print the name and current value of 'i'.\n",
    "        print(f\"{name}: {i!s}\")\n",
    "        # Pause the execution of this coroutine to allow other tasks to run.\n",
    "        await asyncio.sleep(0)  # This line will pause the current task and allow other tasks to be executed.\n",
    "\n",
    "# Define the main asynchronous function.\n",
    "async def main():\n",
    "    tasks = []  # Create an empty list to store tasks.\n",
    "\n",
    "    # Create three tasks and append them to the 'tasks' list.\n",
    "    for n in range(0, 3):\n",
    "        tasks.append(asyncio.create_task(counter(f\"task{n}\")))\n",
    "\n",
    "    while True:\n",
    "        # Filter out tasks that have completed (done).\n",
    "        tasks = [t for t in tasks if not t.done()]\n",
    "\n",
    "        print('len(tasks)', len(tasks))\n",
    "        # If all tasks are done, return from the 'main' function.\n",
    "        if len(tasks) == 0:\n",
    "            return\n",
    "\n",
    "        # Wait for the completion of the first task in the 'tasks' list.\n",
    "        await tasks[0] # without this line there is no stop \n",
    "\n",
    "# Run the 'main' function using the asyncio event loop.\n",
    "# asyncio.run(main())\n",
    "await main()"
   ]
  },
  {
   "cell_type": "markdown",
   "id": "5e03d5ac-dfb9-4057-a33b-8f97e5e9cf69",
   "metadata": {},
   "source": [
    "To run `async def main()` above:\n",
    "\n",
    "in a python script you would do  `asyncio.run(main())` such as in scripts/monitor.py\n",
    "\n",
    "```python\n",
    "import asyncio\n",
    "\n",
    "asyncio.run(main())\n",
    "```\n",
    "\n",
    "jupyter (IPython ≥ 7.0) is already running an event loop and `RuntimeError: asyncio.run() cannot be called from a running event loop`\n",
    "\n",
    "so in jupyter you just run:\n",
    "\n",
    "`await main()`"
   ]
  },
  {
   "cell_type": "code",
   "execution_count": null,
   "id": "c8097866-a303-46d3-ab7d-a231d1150115",
   "metadata": {},
   "outputs": [],
   "source": []
  }
 ],
 "metadata": {
  "kernelspec": {
   "display_name": "Python 3 (ipykernel)",
   "language": "python",
   "name": "python3"
  },
  "language_info": {
   "codemirror_mode": {
    "name": "ipython",
    "version": 3
   },
   "file_extension": ".py",
   "mimetype": "text/x-python",
   "name": "python",
   "nbconvert_exporter": "python",
   "pygments_lexer": "ipython3",
   "version": "3.11.5"
  }
 },
 "nbformat": 4,
 "nbformat_minor": 5
}
