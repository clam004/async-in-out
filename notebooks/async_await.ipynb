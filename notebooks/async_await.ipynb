{
 "cells": [
  {
   "cell_type": "markdown",
   "id": "099a0fda-2eeb-4620-b7d6-738f0f963e92",
   "metadata": {},
   "source": [
    "In this notebook, we demonstrate some basic learnings, the most basic being that what is returned from calling an async function is a coroutine:"
   ]
  },
  {
   "cell_type": "code",
   "execution_count": 1,
   "id": "897974a9-f2e1-4161-9fd6-eb69c6380f66",
   "metadata": {},
   "outputs": [
    {
     "data": {
      "text/plain": [
       "coroutine"
      ]
     },
     "execution_count": 1,
     "metadata": {},
     "output_type": "execute_result"
    }
   ],
   "source": [
    "async def coroutine_1():\n",
    "    return 1\n",
    "\n",
    "c = coroutine_1()\n",
    "\n",
    "type(c)"
   ]
  },
  {
   "cell_type": "markdown",
   "id": "874474e8-5223-407c-b362-6fbd45ab3840",
   "metadata": {},
   "source": [
    "next we demonstrate how to use `async def` and `await` to perform multiple tasks on one thread. \n",
    "\n",
    "In the code below, the event loop is managed by the `asyncio` library. When you use `await asyncio.sleep(0)` in the `counter` function, it effectively yields control back to the event loop. The event loop, in turn, is responsible for managing the execution of different tasks and determining which tasks are ready to be resumed.\n",
    "\n",
    "Here's how it works step by step:\n",
    "\n",
    "1. The `counter` coroutine is called with `await asyncio.sleep(0)`. This line introduces an intentional pause in the coroutine's execution, allowing other tasks to run.\n",
    "\n",
    "2. While the `counter` coroutine is paused, the event loop continues to run and can execute other tasks that are ready to run. The `main` function, being an asynchronous function, also allows the event loop to switch between tasks.\n",
    "\n",
    "3. After a brief pause due to `await asyncio.sleep(0)`, the `counter` coroutine becomes eligible to be resumed by the event loop. The event loop schedules the coroutine to continue its execution.\n",
    "\n",
    "4. The event loop manages the execution of tasks based on their status and readiness. When a task is ready to run (e.g., after the sleep), the event loop can resume its execution.\n",
    "\n",
    "So, the event loop itself is responsible for tracking the state of different tasks, handling their pauses, and determining when they are ready to be executed again. The `await` statements and asynchronous constructs provided by `asyncio` facilitate this coordination between different tasks within the event loop.\n",
    "\n",
    "`await asyncio.sleep(0)`  command for yielding control to the event loop so that other tasks can run\n",
    "\n",
    "Storing tasks in a list allows a way to await their completion or check their status using `t.done()`\n",
    "\n",
    "The ` while True` loop continuously checks the status of tasks in the tasks list. It filters out completed tasks and then checks if there are any tasks left. If there are no tasks left (i.e., all tasks are done), it returns from the main function, effectively ending the program.\n",
    "\n",
    "The crucial part is await tasks[0], which means the program will pause at this point until the first task in the list (tasks[0]) is completed. This ensures that the loop doesn't proceed until at least one task has finished. \n",
    "\n",
    "If you remove this line, the loop won't wait for any task to complete, and it will keep checking the task statuses in a tight loop without giving other tasks a chance to execute. This can lead to a busy-waiting scenario, where the program consumes CPU resources without making progress, and the loop never exits.\n"
   ]
  },
  {
   "cell_type": "code",
   "execution_count": 8,
   "id": "4f69107a-b945-4f27-8576-36928f6c3672",
   "metadata": {},
   "outputs": [
    {
     "name": "stdout",
     "output_type": "stream",
     "text": [
      "len(tasks) 3\n",
      "task0: 0\n",
      "task1: 0\n",
      "task2: 0\n",
      "task0: 1\n",
      "task1: 1\n",
      "task2: 1\n",
      "task0: 2\n",
      "task1: 2\n",
      "task2: 2\n",
      "task0: 3\n",
      "task1: 3\n",
      "task2: 3\n",
      "task0: 4\n",
      "task1: 4\n",
      "task2: 4\n",
      "len(tasks) 0\n",
      "done <class 'str'> <class 'function'>\n"
     ]
    },
    {
     "name": "stderr",
     "output_type": "stream",
     "text": [
      "/var/folders/ys/z0p9dh5j5j9dxn2k2yhpmmfw0000gn/T/ipykernel_63728/3790617059.py:36: RuntimeWarning: coroutine 'main' was never awaited\n",
      "  m = main()\n",
      "RuntimeWarning: Enable tracemalloc to get the object allocation traceback\n"
     ]
    }
   ],
   "source": [
    "import asyncio\n",
    "\n",
    "# Define an asynchronous function 'counter' that takes a 'name' parameter.\n",
    "async def counter(name: str):\n",
    "    # Loop from 0 to 9 (inclusive).\n",
    "    for i in range(0, 5):\n",
    "        # Print the name and current value of 'i'.\n",
    "        print(f\"{name}: {i!s}\")\n",
    "        # Pause the execution of this coroutine to allow other tasks to run.\n",
    "        await asyncio.sleep(0)  # This line will pause the current task and allow other tasks to be executed.\n",
    "\n",
    "# Define the main asynchronous function.\n",
    "async def main():\n",
    "    tasks = []  # Create an empty list to store tasks.\n",
    "\n",
    "    # Create three tasks and append them to the 'tasks' list.\n",
    "    for n in range(0, 3):\n",
    "        tasks.append(asyncio.create_task(counter(f\"task{n}\")))\n",
    "\n",
    "    while True:\n",
    "        # Filter out tasks that have completed (done).\n",
    "        tasks = [t for t in tasks if not t.done()]\n",
    "\n",
    "        print('len(tasks)', len(tasks))\n",
    "        # If all tasks are done, return from the 'main' function.\n",
    "        if len(tasks) == 0:\n",
    "            return \"done\"\n",
    "\n",
    "        # Wait for the completion of the first task in the 'tasks' list.\n",
    "        await tasks[0] # without this line there is no stop \n",
    "\n",
    "# Run the 'main' function using the asyncio event loop.\n",
    "\n",
    "#1. script version\n",
    "# asyncio.run(main())\n",
    "\n",
    "#2. direct version\n",
    "#d = await main()\n",
    "\n",
    "# make a coroutine m first, then await it\n",
    "m = main()\n",
    "d = await m\n",
    "\n",
    "print(d, type(d), type(main))"
   ]
  },
  {
   "cell_type": "markdown",
   "id": "5e03d5ac-dfb9-4057-a33b-8f97e5e9cf69",
   "metadata": {},
   "source": [
    "To run `async def main()` above:\n",
    "\n",
    "in a python script you would do  `asyncio.run(main())` such as in scripts/monitor.py\n",
    "\n",
    "```python\n",
    "import asyncio\n",
    "\n",
    "asyncio.run(main())\n",
    "```\n",
    "\n",
    "jupyter (IPython ≥ 7.0) is already running an event loop and `RuntimeError: asyncio.run() cannot be called from a running event loop`\n",
    "\n",
    "so in jupyter you just run:\n",
    "\n",
    "`await main()`\n",
    "\n",
    "The `asyncio.run(main())` function call is used to run an asyncio program. It was introduced in Python 3.7 as a simple way to run an asyncio event loop until the given coroutine completes. The `main()` function in your code is the entry point for the asyncio program, and `asyncio.run(main())` is essentially saying \"run the asyncio event loop until the `main()` coroutine completes.\"\n",
    "\n",
    "In a Jupyter Notebook, the event loop is already running in the background, so you can use `await main()` directly without needing to explicitly call `asyncio.run(main())`. The Jupyter environment often has an event loop running by default, making it more convenient to use the `await` syntax directly.\n",
    "\n",
    "Here's a breakdown:\n",
    "\n",
    "1. **`asyncio.run(main())`:** This function sets up a new event loop, runs the `main()` coroutine until it completes, and then closes the event loop. It's a simple and convenient way to run asyncio code.\n",
    "\n",
    "2. **`await main()`:** In a Jupyter Notebook or any environment where an event loop is already running, you can use the `await` syntax directly. This assumes that the event loop is already set up and running in the background. The `await main()` line means \"wait for the `main()` coroutine to complete before proceeding.\" The event loop in the background manages the execution of the coroutine.\n",
    "\n",
    "In the context of a Jupyter Notebook, when you use `await main()`, you are essentially running an asynchronous function (`main()` in this case) in an environment where an event loop is already running.\n",
    "\n",
    "Here's what happens step by step:\n",
    "\n",
    "1. **Jupyter Notebooks and Event Loop:** Jupyter Notebooks often run an event loop in the background. This event loop allows you to run asynchronous code using the `await` syntax directly in a notebook cell.\n",
    "\n",
    "2. **`main()` as an Asynchronous Function:** The `main()` function is an asynchronous function (coroutine). It contains asynchronous operations like `await asyncio.sleep(0)` and `await tasks[0]`. These operations would typically be used in an environment with an event loop.\n",
    "\n",
    "3. **`await main()`:** By using `await main()` in a Jupyter Notebook cell, you are telling the event loop to execute the `main()` coroutine. The `await` keyword essentially says, \"pause here and allow other tasks to run until `main()` completes.\"\n",
    "\n",
    "4. **Event Loop Execution:** The event loop in the Jupyter environment manages the execution of asynchronous tasks. When you `await main()`, it lets the event loop run other tasks while waiting for the completion of the `main()` coroutine.\n",
    "\n",
    "In summary, `await main()` is a way to run asynchronous code in a Jupyter Notebook where an event loop is already running. It allows you to interact with and await the completion of asynchronous tasks in a notebook cell.\n",
    "\n",
    "In summary, `asyncio.run(main())` is a way to run asyncio code in a script or a non-asyncio context, while `await main()` is a way to run asyncio code in an environment where an event loop is already running. In a Jupyter Notebook, the event loop is often running, so you can use `await` directly."
   ]
  },
  {
   "cell_type": "code",
   "execution_count": null,
   "id": "c8097866-a303-46d3-ab7d-a231d1150115",
   "metadata": {},
   "outputs": [],
   "source": []
  }
 ],
 "metadata": {
  "kernelspec": {
   "display_name": "Python 3 (ipykernel)",
   "language": "python",
   "name": "python3"
  },
  "language_info": {
   "codemirror_mode": {
    "name": "ipython",
    "version": 3
   },
   "file_extension": ".py",
   "mimetype": "text/x-python",
   "name": "python",
   "nbconvert_exporter": "python",
   "pygments_lexer": "ipython3",
   "version": "3.11.5"
  }
 },
 "nbformat": 4,
 "nbformat_minor": 5
}
